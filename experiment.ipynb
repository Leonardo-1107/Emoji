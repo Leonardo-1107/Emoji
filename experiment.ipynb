{
 "cells": [
  {
   "cell_type": "markdown",
   "id": "d7c57991",
   "metadata": {},
   "source": [
    "# Main code scripts"
   ]
  },
  {
   "cell_type": "code",
   "execution_count": 1,
   "id": "bdb9ed91",
   "metadata": {},
   "outputs": [],
   "source": [
    "import pandas as pd\n",
    "import numpy as np\n",
    "import matplotlib.pyplot as plt\n",
    "\n",
    "from sklearn.feature_extraction.text import TfidfVectorizer\n",
    "from sklearn.model_selection import train_test_split\n",
    "from sklearn.metrics import classification_report, precision_score, recall_score, f1_score, roc_auc_score\n",
    "from sklearn.preprocessing import label_binarize\n",
    "from sklearn.ensemble import RandomForestClassifier\n",
    "\n",
    "import torch\n",
    "from transformers import T5Tokenizer, T5ForConditionalGeneration\n",
    "from torch.utils.data import Dataset, DataLoader"
   ]
  },
  {
   "cell_type": "markdown",
   "id": "7e92dcfd",
   "metadata": {},
   "source": [
    "# Prepare the Emojibag Translator"
   ]
  },
  {
   "cell_type": "code",
   "execution_count": 2,
   "id": "1ed0342e",
   "metadata": {},
   "outputs": [
    {
     "name": "stderr",
     "output_type": "stream",
     "text": [
      "You are using the default legacy behaviour of the <class 'transformers.models.t5.tokenization_t5.T5Tokenizer'>. This is expected, and simply means that the `legacy` (previous) behavior will be used so nothing changes for you. If you want to use the new behaviour, set `legacy=False`. This should only be set if you understand what it means, and thoroughly read the reason why this was added as explained in https://github.com/huggingface/transformers/pull/24565\n"
     ]
    }
   ],
   "source": [
    "MODEL = 't5-small'\n",
    "\n",
    "\n",
    "DEVICE = \"cuda\" if torch.cuda.is_available() else \"cpu\"\n",
    "tokenizer = T5Tokenizer.from_pretrained(MODEL, lagacy=False)\n",
    "\n",
    "# path_pos = 'dataset/1k_data_tweets_emoticon_pos.csv'\n",
    "# df_pos = pd.read_csv(path_pos)\n",
    "# path_neg = 'dataset/1k_data_tweets_emoticon_neg.csv'\n",
    "# df_neg = pd.read_csv(path_neg)\n",
    "# data_df = pd.concat([df_pos, df_neg], ignore_index=True)\n",
    "\n",
    "data_df = pd.read_csv('dataset/1k_data_emoji_tweets_senti_posneg.csv')\n",
    "from tqdm import tqdm\n",
    "def set_the_model(path):\n",
    "    \"\"\"\n",
    "    Load various trained T5-based Emojibag models\n",
    "    \"\"\"\n",
    "    model = T5ForConditionalGeneration.from_pretrained(MODEL)\n",
    "    model.to(DEVICE)\n",
    "    model.load_state_dict(torch.load(path, weights_only=True))    \n",
    "\n",
    "    return model\n",
    "\n",
    "\n",
    "def translate_emoji(texts, tokenizer, model, device='cuda', batch_size=32, max_new_tokens=20):\n",
    "    model.eval()\n",
    "    translated_texts = []\n",
    "\n",
    "    dataloader = DataLoader(texts, batch_size=batch_size)\n",
    "\n",
    "    for batch in tqdm(dataloader, desc='Translating emojis (batched)'):\n",
    "        # Tokenize the batch\n",
    "        inputs = tokenizer(list(batch), return_tensors='pt', padding=True, truncation=True).to(device)\n",
    "        with torch.no_grad():\n",
    "            outputs = model.generate(**inputs, max_new_tokens=max_new_tokens)\n",
    "        # Decode batch\n",
    "        decoded = tokenizer.batch_decode(outputs, skip_special_tokens=True)\n",
    "        translated_texts.extend(decoded)\n",
    "\n",
    "    return translated_texts\n"
   ]
  },
  {
   "cell_type": "markdown",
   "id": "9bc28a3b",
   "metadata": {},
   "source": [
    "## Conduct experiments"
   ]
  },
  {
   "cell_type": "code",
   "execution_count": null,
   "id": "0f2a05d9",
   "metadata": {},
   "outputs": [
    {
     "name": "stdout",
     "output_type": "stream",
     "text": [
      "[INFO] Raw classification report:\n",
      "              precision    recall  f1-score   support\n",
      "\n",
      "           0       0.61      0.48      0.54        87\n",
      "           1       0.66      0.76      0.70       113\n",
      "\n",
      "    accuracy                           0.64       200\n",
      "   macro avg       0.63      0.62      0.62       200\n",
      "weighted avg       0.64      0.64      0.63       200\n",
      "\n"
     ]
    },
    {
     "name": "stderr",
     "output_type": "stream",
     "text": [
      "Translating emojis (batched): 100%|██████████| 32/32 [00:06<00:00,  4.86it/s]\n"
     ]
    },
    {
     "name": "stdout",
     "output_type": "stream",
     "text": [
      "[INFO] Emojibag-GPT2 classification report:\n",
      "              precision    recall  f1-score   support\n",
      "\n",
      "           0       0.53      0.71      0.61        87\n",
      "           1       0.70      0.52      0.60       113\n",
      "\n",
      "    accuracy                           0.60       200\n",
      "   macro avg       0.62      0.62      0.60       200\n",
      "weighted avg       0.63      0.60      0.60       200\n",
      "\n"
     ]
    },
    {
     "name": "stderr",
     "output_type": "stream",
     "text": [
      "Translating emojis (batched): 100%|██████████| 32/32 [00:06<00:00,  5.13it/s]\n"
     ]
    },
    {
     "name": "stdout",
     "output_type": "stream",
     "text": [
      "[INFO] Emojibag-ChatGPT classification report:\n",
      "              precision    recall  f1-score   support\n",
      "\n",
      "           0       0.77      0.51      0.61        87\n",
      "           1       0.70      0.88      0.78       113\n",
      "\n",
      "    accuracy                           0.72       200\n",
      "   macro avg       0.74      0.70      0.70       200\n",
      "weighted avg       0.73      0.72      0.71       200\n",
      "\n",
      "        Description  Precision    Recall        F1     AUROC\n",
      "0               Raw   0.632592  0.621910  0.621690  0.726732\n",
      "1     Emojibag-GPT2   0.618432  0.617384  0.604911  0.677805\n",
      "2  Emojibag-ChatGPT   0.735615  0.695351  0.696181  0.790255\n"
     ]
    }
   ],
   "source": [
    "def run_experiment(data_df, translate_emoji_func, model, tokenizer, vectorizer = None, description=\"Raw\", binary=False):\n",
    "    \n",
    "    X_text = data_df['post'].astype(str)\n",
    "    y = data_df['sentiment']\n",
    "\n",
    "    if \"raw\" not in description.lower():\n",
    "        X_text = translate_emoji_func(X_text, tokenizer=tokenizer, model=model)\n",
    "\n",
    "    X_train, X_test, y_train, y_test = train_test_split(X_text, y, test_size=0.2, random_state=42)\n",
    "\n",
    "    X_train_tfidf = vectorizer.fit_transform(X_train)\n",
    "    X_test_tfidf = vectorizer.transform(X_test)\n",
    "\n",
    "    # Train classifier\n",
    "    clf = RandomForestClassifier(random_state=42)\n",
    "    clf.fit(X_train_tfidf, y_train)\n",
    "\n",
    "    # Predict and evaluate\n",
    "    y_pred = clf.predict(X_test_tfidf)\n",
    "    y_proba = clf.predict_proba(X_test_tfidf)\n",
    "\n",
    "    # Handle binary vs multiclass AUROC\n",
    "    if binary or len(set(y)) == 2:\n",
    "        # Convert labels to binary if not already\n",
    "        if y_proba.shape[1] > 1:\n",
    "            y_scores = y_proba[:, 1]\n",
    "        else:\n",
    "            y_scores = y_proba.ravel()\n",
    "        auroc = roc_auc_score(y_test, y_scores)\n",
    "    else:\n",
    "        y_test_bin = label_binarize(y_test, classes=clf.classes_)\n",
    "        auroc = roc_auc_score(y_test_bin, y_proba, average='macro', multi_class='ovo')\n",
    "\n",
    "    # Metrics\n",
    "    precision = precision_score(y_test, y_pred, average='macro')\n",
    "    recall = recall_score(y_test, y_pred, average='macro')\n",
    "    f1 = f1_score(y_test, y_pred, average='macro')\n",
    "\n",
    "    print(f\"[INFO] {description} classification report:\")\n",
    "    print(classification_report(y_test, y_pred))\n",
    "\n",
    "    return {\n",
    "        \"Description\": description,\n",
    "        \"Precision\": precision,\n",
    "        \"Recall\": recall,\n",
    "        \"F1\": f1,\n",
    "        \"AUROC\": auroc\n",
    "    }\n",
    "\n",
    "\n",
    "# TF-IDF\n",
    "vectorizer = TfidfVectorizer(max_features=5000, ngram_range=(1, 2), stop_words='english')\n",
    "\n",
    "T5_GPT2_MODEL = set_the_model(path='t5-small_50_GPT2.pt')\n",
    "T5_CHATGPT_MODEL = set_the_model(path='t5-small_50_chatgpt.pt')\n",
    "\n",
    "results = []\n",
    "results.append(run_experiment(data_df, None, None, None, vectorizer, description=\"Raw\", binary=False))\n",
    "results.append(run_experiment(data_df, translate_emoji, T5_GPT2_MODEL, tokenizer, vectorizer, description=\"Emojibag-GPT2\", binary=False))\n",
    "results.append(run_experiment(data_df, translate_emoji, T5_CHATGPT_MODEL, tokenizer, vectorizer, description=\"Emojibag-ChatGPT\", binary=False))\n",
    "\n",
    "\n",
    "# Show all results as a table\n",
    "results_df = pd.DataFrame(results)\n",
    "print(results_df)\n"
   ]
  },
  {
   "cell_type": "markdown",
   "id": "03347660",
   "metadata": {},
   "source": [
    "# Using Transformer-based vectorizer"
   ]
  },
  {
   "cell_type": "code",
   "execution_count": 4,
   "id": "e131e132",
   "metadata": {},
   "outputs": [
    {
     "name": "stderr",
     "output_type": "stream",
     "text": [
      "Encoding with BERT: 100%|██████████| 25/25 [00:00<00:00, 37.42it/s]\n",
      "Encoding with BERT: 100%|██████████| 7/7 [00:00<00:00, 67.63it/s]\n"
     ]
    },
    {
     "name": "stdout",
     "output_type": "stream",
     "text": [
      "[INFO] Raw classification report:\n",
      "              precision    recall  f1-score   support\n",
      "\n",
      "           0       0.61      0.77      0.68        87\n",
      "           1       0.78      0.62      0.69       113\n",
      "\n",
      "    accuracy                           0.69       200\n",
      "   macro avg       0.69      0.69      0.68       200\n",
      "weighted avg       0.70      0.69      0.69       200\n",
      "\n"
     ]
    },
    {
     "name": "stderr",
     "output_type": "stream",
     "text": [
      "Translating emojis (batched): 100%|██████████| 32/32 [00:06<00:00,  4.96it/s]\n",
      "Encoding with BERT: 100%|██████████| 25/25 [00:00<00:00, 72.94it/s]\n",
      "Encoding with BERT: 100%|██████████| 7/7 [00:00<00:00, 81.36it/s]\n"
     ]
    },
    {
     "name": "stdout",
     "output_type": "stream",
     "text": [
      "[INFO] Emojibag-GPT2 classification report:\n",
      "              precision    recall  f1-score   support\n",
      "\n",
      "           0       0.49      0.72      0.58        87\n",
      "           1       0.66      0.42      0.51       113\n",
      "\n",
      "    accuracy                           0.55       200\n",
      "   macro avg       0.58      0.57      0.55       200\n",
      "weighted avg       0.59      0.55      0.54       200\n",
      "\n"
     ]
    },
    {
     "name": "stderr",
     "output_type": "stream",
     "text": [
      "Translating emojis (batched): 100%|██████████| 32/32 [00:06<00:00,  5.28it/s]\n",
      "Encoding with BERT: 100%|██████████| 25/25 [00:00<00:00, 69.08it/s]\n",
      "Encoding with BERT: 100%|██████████| 7/7 [00:00<00:00, 87.50it/s]\n"
     ]
    },
    {
     "name": "stdout",
     "output_type": "stream",
     "text": [
      "[INFO] Emojibag-ChatGPT classification report:\n",
      "              precision    recall  f1-score   support\n",
      "\n",
      "           0       0.67      0.76      0.71        87\n",
      "           1       0.79      0.71      0.75       113\n",
      "\n",
      "    accuracy                           0.73       200\n",
      "   macro avg       0.73      0.73      0.73       200\n",
      "weighted avg       0.74      0.73      0.73       200\n",
      "\n"
     ]
    },
    {
     "data": {
      "text/html": [
       "<div>\n",
       "<style scoped>\n",
       "    .dataframe tbody tr th:only-of-type {\n",
       "        vertical-align: middle;\n",
       "    }\n",
       "\n",
       "    .dataframe tbody tr th {\n",
       "        vertical-align: top;\n",
       "    }\n",
       "\n",
       "    .dataframe thead th {\n",
       "        text-align: right;\n",
       "    }\n",
       "</style>\n",
       "<table border=\"1\" class=\"dataframe\">\n",
       "  <thead>\n",
       "    <tr style=\"text-align: right;\">\n",
       "      <th></th>\n",
       "      <th>Description</th>\n",
       "      <th>Precision</th>\n",
       "      <th>Recall</th>\n",
       "      <th>F1</th>\n",
       "      <th>AUROC</th>\n",
       "    </tr>\n",
       "  </thead>\n",
       "  <tbody>\n",
       "    <tr>\n",
       "      <th>0</th>\n",
       "      <td>Raw</td>\n",
       "      <td>0.693434</td>\n",
       "      <td>0.694792</td>\n",
       "      <td>0.684929</td>\n",
       "      <td>0.786390</td>\n",
       "    </tr>\n",
       "    <tr>\n",
       "      <th>1</th>\n",
       "      <td>Emojibag-GPT2</td>\n",
       "      <td>0.575172</td>\n",
       "      <td>0.570034</td>\n",
       "      <td>0.547101</td>\n",
       "      <td>0.625928</td>\n",
       "    </tr>\n",
       "    <tr>\n",
       "      <th>2</th>\n",
       "      <td>Emojibag-ChatGPT</td>\n",
       "      <td>0.729373</td>\n",
       "      <td>0.733293</td>\n",
       "      <td>0.728670</td>\n",
       "      <td>0.833486</td>\n",
       "    </tr>\n",
       "  </tbody>\n",
       "</table>\n",
       "</div>"
      ],
      "text/plain": [
       "        Description  Precision    Recall        F1     AUROC\n",
       "0               Raw   0.693434  0.694792  0.684929  0.786390\n",
       "1     Emojibag-GPT2   0.575172  0.570034  0.547101  0.625928\n",
       "2  Emojibag-ChatGPT   0.729373  0.733293  0.728670  0.833486"
      ]
     },
     "execution_count": 4,
     "metadata": {},
     "output_type": "execute_result"
    }
   ],
   "source": [
    "from transformers import AutoTokenizer, AutoModel\n",
    "from utils import BertVectorizer\n",
    "\n",
    "\n",
    "# Load BERT model/tokenizer (can be any transformer)\n",
    "bert_tokenizer = AutoTokenizer.from_pretrained(\"bert-base-uncased\")\n",
    "bert_model = AutoModel.from_pretrained(\"bert-base-uncased\").to(\"cuda\")\n",
    "\n",
    "bert_vectorizer = BertVectorizer(model=bert_model, tokenizer=bert_tokenizer)\n",
    "\n",
    "results = []\n",
    "results.append(run_experiment(data_df, None, None, None, bert_vectorizer, description=\"Raw\", binary=False))\n",
    "results.append(run_experiment(data_df, translate_emoji, T5_GPT2_MODEL, tokenizer, bert_vectorizer, description=\"Emojibag-GPT2\", binary=False))\n",
    "results.append(run_experiment(data_df, translate_emoji, T5_CHATGPT_MODEL, tokenizer, bert_vectorizer, description=\"Emojibag-ChatGPT\", binary=False))\n",
    "\n",
    "\n",
    "pd.DataFrame(results)"
   ]
  }
 ],
 "metadata": {
  "kernelspec": {
   "display_name": "Python 3",
   "language": "python",
   "name": "python3"
  },
  "language_info": {
   "codemirror_mode": {
    "name": "ipython",
    "version": 3
   },
   "file_extension": ".py",
   "mimetype": "text/x-python",
   "name": "python",
   "nbconvert_exporter": "python",
   "pygments_lexer": "ipython3",
   "version": "3.9.6"
  }
 },
 "nbformat": 4,
 "nbformat_minor": 5
}
